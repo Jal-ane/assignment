{
 "cells": [
  {
   "cell_type": "markdown",
   "metadata": {},
   "source": [
    "# Exercise: RDataFrame basics"
   ]
  },
  {
   "cell_type": "markdown",
   "metadata": {},
   "source": [
    "The file `../data/example_file.root` contains a `TTree` dataset (called `\"dataset\"`) with two scalar columns `a` and `b`.<br>\n",
    "There is a normal distribution hidden in there, but to display it you have to plot the natural logarithm of `a` only for entries in which `b <= 0.5`.\n",
    "\n",
    "### Useful links\n",
    "\n",
    "- [RDataFrame class reference](https://root.cern/doc/master/classROOT_1_1RDataFrame.html)\n",
    "- [RDataFrame tutorials](https://root.cern.ch/doc/master/group__tutorial__dataframe.html)"
   ]
  },
  {
   "cell_type": "code",
   "execution_count": 2,
   "metadata": {},
   "outputs": [
    {
     "name": "stdout",
     "output_type": "stream",
     "text": [
      "Welcome to JupyROOT 6.30/07\n"
     ]
    }
   ],
   "source": [
    "import ROOT"
   ]
  },
  {
   "cell_type": "code",
   "execution_count": 19,
   "metadata": {},
   "outputs": [],
   "source": [
    "df2 = ROOT.RDataFrame('dataset', 'example_file.root')"
   ]
  },
  {
   "cell_type": "code",
   "execution_count": 21,
   "metadata": {},
   "outputs": [
    {
     "name": "stdout",
     "output_type": "stream",
     "text": [
      "+-----+------------+------------+-------------+------------+--------------+\n",
      "| Row | a          | b          | loga        | vec1       | vec2         | \n",
      "+-----+------------+------------+-------------+------------+--------------+\n",
      "| 1   | 2.2802012  | 0.48497361 | 0.82426369  | -1.80835f  | 0.0800873f   | \n",
      "|     |            |            |             | 0.236065f  | 0.479906f    | \n",
      "|     |            |            |             | -3.97713f  | 0.519888f    | \n",
      "|     |            |            |             | -0.293643f | 0.317273f    | \n",
      "+-----+------------+------------+-------------+------------+--------------+\n",
      "| 2   | 0.56348245 | 0.39231399 | -0.57361908 |            |              | \n",
      "+-----+------------+------------+-------------+------------+--------------+\n",
      "| 3   | 3.0421559  | 0.33353925 | 1.1125664   | 0.727539f  | 0.796610f    | \n",
      "|     |            |            |             | -3.81258f  | 0.331128f    | \n",
      "|     |            |            |             | -2.87416f  | -0.00277938f | \n",
      "+-----+------------+------------+-------------+------------+--------------+\n",
      "| 5   | 0.31150198 | 0.20777991 | -1.1663496  |            |              | \n",
      "+-----+------------+------------+-------------+------------+--------------+\n",
      "| 7   | 0.81937311 | 0.43184546 | -0.19921573 | 0.0741726f | -0.658658f   | \n",
      "|     |            |            |             | -4.45814f  | -0.118358f   | \n",
      "|     |            |            |             | -4.07029f  | -0.909327f   | \n",
      "|     |            |            |             | -0.478719f | -0.377407f   | \n",
      "+-----+------------+------------+-------------+------------+--------------+\n"
     ]
    }
   ],
   "source": [
    "df = df2.Filter('b <= 0.5')\n",
    "df = df.Define('loga', 'log(a)')\n",
    "df.Display().Print()"
   ]
  },
  {
   "cell_type": "code",
   "execution_count": 22,
   "metadata": {},
   "outputs": [
    {
     "data": {
      "image/png": "[encoded data removed]",
      "text/plain": [
       "<IPython.core.display.Image object>"
      ]
     },
     "metadata": {},
     "output_type": "display_data"
    }
   ],
   "source": [
    "c = ROOT.TCanvas()\n",
    "h = df.Histo1D(\"loga\")\n",
    "h.Draw()\n",
    "c.Draw()\n"
   ]
  }
 ],
 "metadata": {
  "kernelspec": {
   "display_name": "Python 3 (ipykernel)",
   "language": "python",
   "name": "python3"
  },
  "language_info": {
   "codemirror_mode": {
    "name": "ipython",
    "version": 3
   },
   "file_extension": ".py",
   "mimetype": "text/x-python",
   "name": "python",
   "nbconvert_exporter": "python",
   "pygments_lexer": "ipython3",
   "version": "3.9.14"
  }
 },
 "nbformat": 4,
 "nbformat_minor": 4
}
