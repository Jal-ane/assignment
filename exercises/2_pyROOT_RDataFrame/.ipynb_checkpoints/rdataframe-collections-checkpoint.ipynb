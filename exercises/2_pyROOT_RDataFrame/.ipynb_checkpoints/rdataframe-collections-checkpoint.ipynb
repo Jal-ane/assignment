{
 "cells": [
  {
   "cell_type": "markdown",
   "id": "41ca9b9e",
   "metadata": {},
   "source": [
    "# Exercise: RDataFrame and collections"
   ]
  },
  {
   "cell_type": "markdown",
   "id": "c5657ad2",
   "metadata": {},
   "source": [
    "The same dataset used in the previous exercise (`TTree` \"dataset\" in file `../data/example_file.root`) contains two vector columns `vec1` and `vec2`.<br>\n",
    "The elements of `vec1` are distributed as a mixture of Gaussians, plus background noise.<br>\n",
    "To remove the background noise, select the elements of `vec1` for which the square of the corresponding elements in `vec2` is less than 0.1.\n",
    "\n",
    "Where are the peaks of this mixture of Gaussians?\n",
    "\n",
    "### Useful links\n",
    "\n",
    "- [RDataFrame: working with collections](https://root.cern/doc/master/classROOT_1_1RDataFrame.html#collections)\n",
    "- [RVec reference](https://root.cern/doc/master/classROOT_1_1VecOps_1_1RVec.html)"
   ]
  },
  {
   "cell_type": "code",
   "execution_count": 1,
   "id": "4dea17f9",
   "metadata": {},
   "outputs": [
    {
     "name": "stdout",
     "output_type": "stream",
     "text": [
      "Welcome to JupyROOT 6.30/07\n"
     ]
    }
   ],
   "source": [
    "import ROOT"
   ]
  },
  {
   "cell_type": "code",
   "execution_count": 2,
   "id": "638db97c-9a60-4a49-8e63-6eaadf37dd43",
   "metadata": {},
   "outputs": [],
   "source": [
    "df2 = ROOT.RDataFrame('dataset', 'example_file.root')"
   ]
  },
  {
   "cell_type": "code",
   "execution_count": 3,
   "id": "3f86ee30-88f0-45a3-95b4-2088c8485854",
   "metadata": {},
   "outputs": [],
   "source": [
    "df = df2.Define(\"vec11\", \"vec1[vec2 * vec2 < 0.1]\")"
   ]
  },
  {
   "cell_type": "code",
   "execution_count": 6,
   "id": "109b26b8-261c-4897-b2a7-27c5f1ca7ecc",
   "metadata": {},
   "outputs": [
    {
     "data": {
      "image/png": "[encoded data removed]",
      "text/plain": [
       "<IPython.core.display.Image object>"
      ]
     },
     "metadata": {},
     "output_type": "display_data"
    }
   ],
   "source": [
    "c = ROOT.TCanvas()\n",
    "h = df.Histo1D(\"vec11\")\n",
    "h.Draw()\n",
    "c.Draw()\n",
    "#up on inspection, the peaks are at bin 21 and 42"
   ]
  }
 ],
 "metadata": {
  "kernelspec": {
   "display_name": "Python 3 (ipykernel)",
   "language": "python",
   "name": "python3"
  },
  "language_info": {
   "codemirror_mode": {
    "name": "ipython",
    "version": 3
   },
   "file_extension": ".py",
   "mimetype": "text/x-python",
   "name": "python",
   "nbconvert_exporter": "python",
   "pygments_lexer": "ipython3",
   "version": "3.9.14"
  }
 },
 "nbformat": 4,
 "nbformat_minor": 5
}
